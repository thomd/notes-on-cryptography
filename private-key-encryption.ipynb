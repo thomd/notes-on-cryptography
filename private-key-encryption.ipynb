{
 "cells": [
  {
   "cell_type": "markdown",
   "id": "451ed5fa-8277-4f82-bf83-7aee8e349847",
   "metadata": {},
   "source": [
    "# Private-Key Encryption Ciphers"
   ]
  },
  {
   "cell_type": "code",
   "execution_count": 1,
   "id": "722c0193-cb61-4c21-87a0-137bd269bbd8",
   "metadata": {},
   "outputs": [],
   "source": [
    "from collections import Counter\n",
    "import matplotlib.pyplot as plt\n",
    "import numpy as np\n",
    "import math\n",
    "import json\n",
    "import requests\n",
    "import string\n",
    "import difflib"
   ]
  },
  {
   "cell_type": "markdown",
   "id": "7bde117d-5312-488f-b8c3-034f51ab3e90",
   "metadata": {},
   "source": [
    "## Shift Cipher\n",
    "\n",
    "The Shift Cipher, a.k.a. Caesar Cipher, is defined as\n",
    "\n",
    "* $\\textbf{M} = \\{\\text{strings over lowercase English alphabet}\\}$\n",
    "\n",
    "* $\\text{Gen}$: choose uniform $k \\in \\{0, \\ldots, 25\\}$\n",
    "\n",
    "* $\\text{Enc}_k(m_1 \\ldots m_t)$: output $c_1 \\ldots c_t$ where $c_i := m_i + k \\pmod{26}$\n",
    "\n",
    "* $\\text{Dec}_k(c_1 \\ldots c_t)$: output $m_1 \\ldots m_t$ where $m_i := c_i - k \\pmod{26}$\n",
    "\n",
    "The **Shift Cipher** is **not secure** as it has only 26 possible keys, i.e. the **key space** has a size of $26$.\n",
    "\n",
    "Given a ciphertext, try decrypting with every possible key. If ciphertext is long enough, only one possibility will \"make sense\"."
   ]
  },
  {
   "cell_type": "code",
   "execution_count": 2,
   "id": "23c74159-22f1-4a1e-b1eb-eed536da63f1",
   "metadata": {},
   "outputs": [],
   "source": [
    "class ShiftCipher:\n",
    "    '''\n",
    "    helloworld\n",
    "    cccccccccc\n",
    "    ----------\n",
    "    jgnnqyqtnf\n",
    "    '''\n",
    "    \n",
    "    alphas = string.ascii_lowercase\n",
    "\n",
    "    def __init__(self, key):\n",
    "        self.key = key\n",
    "\n",
    "    def enc(self, text):\n",
    "        ciphertext = \"\"\n",
    "        for m in text:\n",
    "            c = self.alphas[(self.alphas.find(m) + self.alphas.find(self.key)) % len(self.alphas)]\n",
    "            ciphertext += c if m in self.alphas else m\n",
    "        return ciphertext\n",
    "\n",
    "    def dec(self, ciphertext):\n",
    "        text = \"\"\n",
    "        for c in ciphertext:\n",
    "            m = self.alphas[(self.alphas.find(c) - self.alphas.find(self.key)) % len(self.alphas)]\n",
    "            text += m if c in self.alphas else c\n",
    "        return text"
   ]
  },
  {
   "cell_type": "code",
   "execution_count": 3,
   "id": "6f8dc4b0-d719-47e3-80ee-0385d51c4358",
   "metadata": {},
   "outputs": [
    {
     "data": {
      "text/plain": [
       "'jgnnqyqtnf'"
      ]
     },
     "execution_count": 3,
     "metadata": {},
     "output_type": "execute_result"
    }
   ],
   "source": [
    "cipher = ShiftCipher('c')\n",
    "cipher.enc('helloworld')"
   ]
  },
  {
   "cell_type": "code",
   "execution_count": 4,
   "id": "02c406c2-7187-43ec-adb4-2b4543c7d0e6",
   "metadata": {},
   "outputs": [
    {
     "data": {
      "text/plain": [
       "'helloworld'"
      ]
     },
     "execution_count": 4,
     "metadata": {},
     "output_type": "execute_result"
    }
   ],
   "source": [
    "cipher.dec(cipher.enc('helloworld'))"
   ]
  },
  {
   "cell_type": "markdown",
   "id": "5a05bcd4-2ea9-40b8-90dc-d6ffe63d1666",
   "metadata": {},
   "source": [
    "## Vigenère Cipher\n",
    "\n",
    "In the Vigenère cypher, the key is a string rather than just a single character:\n",
    "\n",
    "* $\\textbf{M} = \\{\\text{strings over lowercase English alphabet}\\}$\n",
    "\n",
    "* $\\text{Gen}$: string $k \\in \\{k_1, \\ldots, k_u\\}$ with $k_i \\in \\textbf{M}$ and length $u$. String is wraped around if $u < t$\n",
    "\n",
    "* $\\text{Enc}_k(m_1 \\ldots m_t)$: output $c_1 \\ldots c_t$ where $c_i := m_i + k_i \\pmod{26}$\n",
    "\n",
    "* $\\text{Dec}_k(c_1 \\ldots c_t)$: output $m_1 \\ldots m_t$ where $m_i := c_i - k_i \\pmod{26}$\n",
    "\n",
    "The size of the key space $\\textbf{K}$ is ${26}^u$, e.g. if a key has a size $u = 14$, then the key space has a size of ${26}^{14} \\approx 2^{66}$ which makes a brute-force search expersive or impossilble.\n",
    "\n",
    "The **Vigenère Cipher** is not secure though, as there are other attack vectors."
   ]
  },
  {
   "cell_type": "code",
   "execution_count": 5,
   "id": "cb4ec9a0-d236-43b6-a677-3f0f52782077",
   "metadata": {},
   "outputs": [],
   "source": [
    "class VigenereCipher:\n",
    "    '''\n",
    "    tellhimaboutme\n",
    "    cafecafecafeca\n",
    "    --------------\n",
    "    veqpjiredozxoe    \n",
    "    '''\n",
    "    \n",
    "    alphas = string.ascii_lowercase\n",
    "    \n",
    "    def __init__(self, key):\n",
    "        self.key = key\n",
    "\n",
    "    def enc(self, plaintext):\n",
    "        ciphertext = \"\"\n",
    "        for u, m in enumerate(plaintext):\n",
    "            k = self.key[u % len(self.key)]\n",
    "            c = self.alphas[(self.alphas.find(m) + self.alphas.find(k)) % len(self.alphas)]\n",
    "            ciphertext += c if m in self.alphas else m\n",
    "        return ciphertext\n",
    "\n",
    "    def dec(self, ciphertext):\n",
    "        text = \"\"\n",
    "        for u, c in enumerate(ciphertext):\n",
    "            k = self.key[u % len(self.key)]\n",
    "            m = self.alphas[(self.alphas.find(c) - self.alphas.find(k)) % len(self.alphas)]\n",
    "            text += m if c in self.alphas else c\n",
    "        return text"
   ]
  },
  {
   "cell_type": "code",
   "execution_count": 6,
   "id": "7d8dd9cb-0076-451e-9e9a-6f4053d62ae1",
   "metadata": {},
   "outputs": [
    {
     "data": {
      "text/plain": [
       "'veqpjiredozxoe'"
      ]
     },
     "execution_count": 6,
     "metadata": {},
     "output_type": "execute_result"
    }
   ],
   "source": [
    "cipher = VigenereCipher('cafe')\n",
    "cipher.enc('tellhimaboutme')"
   ]
  },
  {
   "cell_type": "code",
   "execution_count": 7,
   "id": "93e29fc5-9c76-4803-bb4b-9973b7bbfbc1",
   "metadata": {},
   "outputs": [
    {
     "data": {
      "text/plain": [
       "'tellhimaboutme'"
      ]
     },
     "execution_count": 7,
     "metadata": {},
     "output_type": "execute_result"
    }
   ],
   "source": [
    "cipher.dec(cipher.enc('tellhimaboutme'))"
   ]
  },
  {
   "cell_type": "markdown",
   "id": "92771a70-4aee-489e-b6ed-5dc4a7b49eea",
   "metadata": {},
   "source": [
    "## Variant of the Vigenère Cipher\n",
    "\n",
    "This variant works with **ASCII plaintext**, **HEX ciphertext** and with **byte-wise XOR** rather than modular addition.\n",
    "\n",
    "* $\\textbf{M}$: printable characters from an ASCII table with decimal values $32 < m_i < 127$\n",
    "\n",
    "* $\\text{Gen}$: bytes $b = b_1, \\ldots, b_u$ represented in HEX with length $u$ with $b \\in [\\text{0x00}, \\ldots, \\text{0xFF}]$. Bytes are wraped around if $u < t$\n",
    "\n",
    "* $\\text{Enc}_b(m_1 \\ldots m_t)$: output $c_1 \\ldots c_t$ where $c_i := m_i \\oplus b_i$\n",
    "\n",
    "* $\\text{Dec}_b(c_1 \\ldots c_t)$: output $m_1 \\ldots m_t$ where $m_i := c_i \\oplus b_i$"
   ]
  },
  {
   "cell_type": "code",
   "execution_count": 8,
   "id": "24b6ee96-1471-4113-b40b-77ef88fe3556",
   "metadata": {},
   "outputs": [],
   "source": [
    "class VariantVigenereCipher:\n",
    "    '''\n",
    "    Hello!\n",
    "    0xA1 0x2F 0xA1 0x2F 0xA1 0x2F\n",
    "    -----------------------------\n",
    "    0xE9 0x4A 0xCD 0x43 0xCE 0x0E\n",
    "    '''\n",
    "    \n",
    "    def __init__(self, key):\n",
    "        self.key = key\n",
    "\n",
    "    def xor(self, a, b):\n",
    "        b = len(a) // len(b) * b + b[:len(a) % len(b)]                 # repeate b to have same size as a\n",
    "        return [int(c1, 16) ^ int(c2, 16) for (c1, c2) in zip(a, b)]   # XOR byte wise\n",
    "        \n",
    "    def enc(self, plaintext):\n",
    "        text = [hex(ord(c)) for c in plaintext]\n",
    "        ciphertext = self.xor(text, self.key)\n",
    "        return [hex(c) for c in ciphertext]\n",
    "\n",
    "    def dec(self, ciphertext):\n",
    "        plaintext = self.xor(ciphertext, self.key)\n",
    "        return \"\".join([chr(c) for c in plaintext])\n"
   ]
  },
  {
   "cell_type": "code",
   "execution_count": 9,
   "id": "22a29394-de37-4c6b-ba2b-d6f3aad59982",
   "metadata": {},
   "outputs": [
    {
     "data": {
      "text/plain": [
       "['0xe9', '0x4a', '0xcd', '0x43', '0xce', '0xe']"
      ]
     },
     "execution_count": 9,
     "metadata": {},
     "output_type": "execute_result"
    }
   ],
   "source": [
    "key = ['0xa1', '0x2f']\n",
    "cipher = VariantVigenereCipher(key)\n",
    "cipher.enc('Hello!')"
   ]
  },
  {
   "cell_type": "code",
   "execution_count": 10,
   "id": "65e529d3-244d-4919-9c93-b1bd8feb03fe",
   "metadata": {},
   "outputs": [
    {
     "data": {
      "text/plain": [
       "'Hello!'"
      ]
     },
     "execution_count": 10,
     "metadata": {},
     "output_type": "execute_result"
    }
   ],
   "source": [
    "cipher.dec(cipher.enc('Hello!'))"
   ]
  },
  {
   "cell_type": "markdown",
   "id": "12341230-8099-45f4-9ff5-a3078ce91e71",
   "metadata": {},
   "source": [
    "## Breaking the Vigenère Ciper\n",
    "\n",
    "The Vigenère Ciper can easily be attacked using plaintext **letter frequencies** (see also https://norvig.com/mayzner.html).\n",
    "\n",
    "The attack times for the following methods are linear with the key length $L$. Compared with brute-force attack, which is exponential with $L$, this attack is very efficient."
   ]
  },
  {
   "cell_type": "code",
   "execution_count": 11,
   "id": "17cb2298-bc9b-4d4a-b3bc-a9849f70cb73",
   "metadata": {},
   "outputs": [],
   "source": [
    "# English ngrams\n",
    "ngrams = requests.get('https://gist.githubusercontent.com/thomd/3db049eb25c9d175c1c539f17b7d2891/raw/8af7bee0b9c0d61f55faf33bbb9a0dcb2a9424ac/ngrams.json').text\n",
    "counter = Counter(json.loads(ngrams)['letters'])\n",
    "english_letter_frequencies = [(c.lower(), counter[c] / counter.total() * 100) for c in sorted(counter)]"
   ]
  },
  {
   "cell_type": "code",
   "execution_count": 12,
   "id": "12c26d47-7b84-415f-9325-364a2340425c",
   "metadata": {},
   "outputs": [
    {
     "data": {
      "image/png": "[encoded data removed]",
      "text/plain": [
       "<Figure size 1000x300 with 1 Axes>"
      ]
     },
     "metadata": {},
     "output_type": "display_data"
    }
   ],
   "source": [
    "fig, ax = plt.subplots(figsize=(10, 3))\n",
    "bars = ax.bar([l for l, _ in english_letter_frequencies], [f for _, f in english_letter_frequencies], width=0.8, color='g', alpha=0.5)\n",
    "plt.ylabel('Letter frequency in %')\n",
    "plt.ylim(0, 14)\n",
    "ax.bar_label(bars, fmt='%.1f', padding=3);"
   ]
  },
  {
   "cell_type": "code",
   "execution_count": 37,
   "id": "5e7f4371-8a0c-455b-9610-703866ab2718",
   "metadata": {},
   "outputs": [
    {
     "name": "stdout",
     "output_type": "stream",
     "text": [
      "The most common letter is 'e' with index 4\n"
     ]
    }
   ],
   "source": [
    "most_common = counter.most_common()[0][0]\n",
    "most_common_english_letter = (most_common.lower(), string.ascii_lowercase.find(most_common.lower()))\n",
    "\n",
    "print(f'The most common letter is \\'{most_common_english_letter[0]}\\' with index {most_common_english_letter[1]}')"
   ]
  },
  {
   "cell_type": "markdown",
   "id": "e16bd76d-28d8-4254-b0d5-21133505db27",
   "metadata": {},
   "source": [
    "### Method 1: We know the Key Size\n",
    "\n",
    "Supposed the key is $n$ characters long\n",
    "\n",
    "1. look at every $n$<sup>th</sup> character of the cipertext, starting with the first character $[c_0, c_{n}, c_{2n}, \\ldots]$.\n",
    "2. Let $\\alpha$ be the most common character appearing in this portion of the cipertext.\n",
    "3. Most likely this character corresponds to the most common plaintext character 'e'.\n",
    "4. Guess the first character of the key is $\\alpha - \\text{e} = \\text{index}(\\alpha) - 4$.\n",
    "5. Repeat for all other positions $c_i$ with $i \\in [0, \\ldots, n]$."
   ]
  },
  {
   "cell_type": "code",
   "execution_count": 14,
   "id": "685a1385-e27f-43bc-a3ce-2a6015c2fd5f",
   "metadata": {},
   "outputs": [],
   "source": [
    "class VigenereCipherAttack:\n",
    "    alphas = string.ascii_lowercase\n",
    "    most_common_index = 4\n",
    "\n",
    "    def restore_key(self, key_length, ciphertext):\n",
    "        key = \"\"\n",
    "        for n in range(key_length):\n",
    "            counter = Counter(ciphertext[n::key_length])\n",
    "            a = self.alphas.find(counter.most_common()[0][0])\n",
    "            key += self.alphas[a - self.most_common_index]\n",
    "        return key"
   ]
  },
  {
   "cell_type": "code",
   "execution_count": 15,
   "id": "1c4ff29a-01a9-43c3-b6b2-8c3f612c5d58",
   "metadata": {},
   "outputs": [],
   "source": [
    "url = 'https://www.gutenberg.org/cache/epub/4300/pg4300.txt' # The Project Gutenberg eBook of Ulysses\n",
    "text = [t for t in requests.get(url).text.lower() if t in string.ascii_lowercase] # we want only [a-z]\n",
    "text = \"\".join(text)"
   ]
  },
  {
   "cell_type": "code",
   "execution_count": 16,
   "id": "d6d24eef-c61b-4a4d-8b8b-cdbb6d8bd0c3",
   "metadata": {},
   "outputs": [],
   "source": [
    "cipher = VigenereCipher('myverysecretkey')\n",
    "ciphertext = cipher.enc(text)"
   ]
  },
  {
   "cell_type": "markdown",
   "id": "13985854-8206-4b3e-8c52-d05d2d3e33d5",
   "metadata": {},
   "source": [
    "Restore the 15 character long key using a cipher text of `1000` characters length:"
   ]
  },
  {
   "cell_type": "code",
   "execution_count": 17,
   "id": "d5ff9c4e-3b74-42c6-9994-0a0e3ca29f57",
   "metadata": {},
   "outputs": [
    {
     "data": {
      "text/plain": [
       "'wyvormserbntneh'"
      ]
     },
     "execution_count": 17,
     "metadata": {},
     "output_type": "execute_result"
    }
   ],
   "source": [
    "attack = VigenereCipherAttack()\n",
    "attack.restore_key(15, ciphertext[:1000])"
   ]
  },
  {
   "cell_type": "markdown",
   "id": "70628fd8-394a-442a-8703-55a3e1c577c3",
   "metadata": {},
   "source": [
    "Restore the key using a cipher text of length `12000` chars:"
   ]
  },
  {
   "cell_type": "code",
   "execution_count": 18,
   "id": "f89c89c1-72fc-4fb2-9239-8f5485a4b8f8",
   "metadata": {},
   "outputs": [
    {
     "data": {
      "text/plain": [
       "'myverysecretkey'"
      ]
     },
     "execution_count": 18,
     "metadata": {},
     "output_type": "execute_result"
    }
   ],
   "source": [
    "attack.restore_key(15, ciphertext[:12000])"
   ]
  },
  {
   "cell_type": "markdown",
   "id": "93298058-6b3c-466b-a5f1-af7f8415b976",
   "metadata": {},
   "source": [
    "Which size of the ciphertext is required to fully restore the 15 characters long key?"
   ]
  },
  {
   "cell_type": "code",
   "execution_count": 19,
   "id": "5026c998-d39f-4dc7-b5aa-bb5712ff0c90",
   "metadata": {},
   "outputs": [
    {
     "data": {
      "image/png": "[encoded data removed]",
      "text/plain": [
       "<Figure size 800x300 with 1 Axes>"
      ]
     },
     "metadata": {},
     "output_type": "display_data"
    }
   ],
   "source": [
    "ciphertext_size = []\n",
    "similarity = []\n",
    "for s in range(50, 12000, 50):\n",
    "    restored_key = attack.restore_key(15, ciphertext[:s])\n",
    "    ciphertext_size.append(s)\n",
    "    similarity.append(difflib.SequenceMatcher(a='myverysecretkey', b=restored_key).ratio())\n",
    "\n",
    "plt.subplots(figsize=(8, 3))\n",
    "plt.ylim(0, 1.1)\n",
    "plt.grid()\n",
    "plt.xlabel('Size of Cipher Text')\n",
    "plt.ylabel('Key Similarity')\n",
    "plt.plot(ciphertext_size, similarity);"
   ]
  },
  {
   "cell_type": "markdown",
   "id": "c09ac761-fd7d-4fc2-8481-d84e8f453177",
   "metadata": {},
   "source": [
    "### Method 2: The Key Size is Unknown\n",
    "\n",
    "Here we use the variant of the Vigenèr cipher.\n",
    "\n",
    "We first determine the key length and then determine each byte of the key."
   ]
  },
  {
   "cell_type": "code",
   "execution_count": 20,
   "id": "cd2a91b7-525c-47e9-b4ad-53359f698682",
   "metadata": {},
   "outputs": [],
   "source": [
    "class VariantVigenereCipherAttack:\n",
    "\n",
    "    # Kullback-Leibler divergence for discrete distributions\n",
    "    def kl(self, p, q):\n",
    "        p = np.asarray(p)\n",
    "        q = np.asarray(q)\n",
    "        return np.sum(np.where(p != 0, p * np.log(p / q), 0))\n",
    "\n",
    "    def determine_key_length(self, ciphertext, max_key_length=40):\n",
    "        L2norms = []\n",
    "        for n in range(1, max_key_length):\n",
    "            counter = Counter([c for c in ciphertext[::n]])\n",
    "            L2norm = math.sqrt(sum([(counter[c] / counter.total()) ** 2 for c in counter]))\n",
    "            L2norms.append((L2norm, n))\n",
    "        return sorted(L2norms, reverse=True)[0][1], L2norms\n",
    "    \n",
    "    def restore_key(self, key_length, ciphertext):\n",
    "        key = \"\"\n",
    "        for k in range(key_length):\n",
    "            candidates = []\n",
    "            for i in range(256):\n",
    "                cipher_stream = ciphertext[:1000][k::key_length]\n",
    "                plaintext_stream = [int(c1, 16) ^ int(c2, 16) for (c1, c2) in zip(cipher_stream, [hex(i)]*len(cipher_stream))]\n",
    "                if all([s in range(32, 127) for s in plaintext_stream]):\n",
    "                    counter = Counter([s for s in plaintext_stream if s in range(97, 123)])\n",
    "                    counter.update(dict([(a,0.0001) for a in range(97, 123)]))\n",
    "                    s = counter.total()\n",
    "                    letters = sorted(counter)\n",
    "                    frequencies = [counter[c] / s * 100 for c in letters]\n",
    "                    kld = self.kl(frequencies, [f for _, f in english_letter_frequencies])\n",
    "                    candidates.append((kld, i))\n",
    "                    \n",
    "            # we use the candidate which letter distribution is most equal to the english letter frequency distribution\n",
    "            key += chr(sorted(candidates)[0][1])\n",
    "        return key"
   ]
  },
  {
   "cell_type": "markdown",
   "id": "07dbb868-7d4f-401d-833f-af3df3a6cba0",
   "metadata": {},
   "source": [
    "#### Determine the Key Length\n",
    "\n",
    "1. Let $p_i$ for $0 \\leq i \\leq 255$ the frequency of byte $i$ in plaintext with $p_i = 0$ for $i < 32$ and $i > 126$ (these are non printable characters)\n",
    "\n",
    "2. If the key length is $N$, then every $N$<sup>th</sup> character of thr plaintext is encryptes using the same \"shift\".\n",
    "\n",
    "3. If we take every $N$<sup>th</sup> character and calculate the freuqencies, we should get all $p_i$ in **permuted order**.\n",
    "\n",
    "4. If we take every $M$<sup>th</sup> character (with $M$ not a multiple of $N$) and calculate the freuqencies, we should get something close to **unifom** (heuristically speaking).\n",
    "\n",
    "5. Calculate the **L2 norm** of each key-length distribution. The L2 norm of a **uniform** probability distribution is always **smaller** as of a **non-uniform** distribution.\n",
    "\n",
    "6. Pick the largest value for the L2 norm to identify $N$.\n",
    "\n",
    "<br><br>\n",
    "\n",
    "**Prove** *The L2 norm of a uniform probability distribution is always smaller as of a non-uniform distribution*:\n",
    "\n",
    "For a probability distribution $p = [p_1, \\ldots, p_n]$ with $\\sum p_i = 1$, the **L2 norm** is \n",
    "\n",
    "$$\\|p\\|_2 = \\sqrt{p_1^2 + \\ldots + p_n^2}$$\n",
    "\n",
    "Now consider a **uniform** probability distribution $u = [\\frac{1}{n}, \\ldots, \\frac{1}{n}]$, then we have \n",
    "\n",
    "$$\\|u\\|_2 = \\sqrt{n \\cdot \\frac{1}{n^2}} = \\frac{1}{\\sqrt{n}}$$\n",
    "\n",
    "By the **Cauchy-Schwarz Inequality** we have:\n",
    "\n",
    "$$\\Big(\\sum{}a_i b_i\\Big)^2 \\leq \\sum{}a_i^2 \\cdot \\sum{}b_i^2$$\n",
    "\n",
    "Let $a_i = p_i$ and $b_i = \\frac{1}{n}$. Then\n",
    "\n",
    "$$\n",
    "\\begin{align}\n",
    "\\Big(\\sum{p_i \\frac{1}{n}}\\Big)^2 &\\leq \\sum{}p_i^2 \\cdot \\sum{}\\frac{1}{n^2} \\\\[5pt]\n",
    "\\Big(\\frac{1}{n}\\Big)^2 &\\leq \\sum{}p_i^2 \\cdot \\frac{1}{n} \\\\[5pt]\n",
    "\\frac{1}{n} &\\leq \\sum{}p_i^2 \\\\[5pt]\n",
    "\\frac{1}{\\sqrt{n}} &\\leq \\sqrt{\\sum{}p_i^2} \\\\[9pt]\n",
    "\\|u\\|_2 &\\leq \\|p\\|_2\n",
    "\\end{align}\n",
    "$$"
   ]
  },
  {
   "cell_type": "code",
   "execution_count": 21,
   "id": "3adfe75e-fa7c-4e03-b3a1-8b31b103852d",
   "metadata": {},
   "outputs": [],
   "source": [
    "url = 'https://www.gutenberg.org/cache/epub/4300/pg4300.txt' # The Project Gutenberg eBook of Ulysses\n",
    "text = [t for t in requests.get(url).text if ord(t) in list(range(32, 127))] # we want only printable ASCII characters\n",
    "text = \"\".join(text)"
   ]
  },
  {
   "cell_type": "code",
   "execution_count": 22,
   "id": "3c21d9ee-e9c5-4062-a735-4144a022e437",
   "metadata": {},
   "outputs": [],
   "source": [
    "cipher = VariantVigenereCipher([hex(ord(c)) for c in 'a very secret key'])\n",
    "ciphertext = cipher.enc(text)"
   ]
  },
  {
   "cell_type": "code",
   "execution_count": 23,
   "id": "fc5c22ca-a1ff-450f-8296-d897ef5ec145",
   "metadata": {},
   "outputs": [
    {
     "name": "stdout",
     "output_type": "stream",
     "text": [
      "Determined key length: 17\n"
     ]
    }
   ],
   "source": [
    "attack = VariantVigenereCipherAttack()\n",
    "determined_key_length, L2norms = attack.determine_key_length(ciphertext)\n",
    "\n",
    "print(f'Determined key length: {determined_key_length}')"
   ]
  },
  {
   "cell_type": "code",
   "execution_count": 24,
   "id": "f5d571b0-0f8b-40a7-87b7-ee028c5e575b",
   "metadata": {},
   "outputs": [
    {
     "data": {
      "image/png": "[encoded data removed]",
      "text/plain": [
       "<Figure size 1000x300 with 1 Axes>"
      ]
     },
     "metadata": {},
     "output_type": "display_data"
    }
   ],
   "source": [
    "plt.subplots(figsize=(10, 3))\n",
    "plt.xlabel('Key Length')\n",
    "plt.ylabel('L2 Norm')\n",
    "plt.bar([n for _, n in L2norms], [p for p, _ in L2norms], width=0.6, alpha=0.5);"
   ]
  },
  {
   "attachments": {},
   "cell_type": "markdown",
   "id": "e2d8f499-20db-4af1-8e21-6b645fb76c82",
   "metadata": {},
   "source": [
    "#### Determine Each Byte of the Key\n",
    "\n",
    "Now that the key length $n$ is known, \n",
    "\n",
    "1. Look at every $n$<sup>th</sup> character of the ciphertext starting with the $i$<sup>th</sup> character $c_i$. We call this the $i$<sup>th</sup> ciphertext **stream**. All bytes in this stream were generated by XOR'ing the plaintext with the same byte of the key.\n",
    "\n",
    "2. Try decrypting the stream $B$ using every possible byte value $b \\in [\\text{0x00}, \\ldots, \\text{0xFF}]$ to get a candidate plaintext stream $M$.\n",
    "\n",
    "3. When a guess $M$ is correct, then all bytes $m_i$ in the plaintext stream will be $32 < m_i < 127$ and the frequencies of all lowercase letters should be close to known letter distribution."
   ]
  },
  {
   "cell_type": "markdown",
   "id": "46720e8e-37ab-45f7-84b9-c0129f18d1ac",
   "metadata": {},
   "source": [
    "Restore the `17` characters key using a cipher text of `100` characters length:"
   ]
  },
  {
   "cell_type": "code",
   "execution_count": 25,
   "id": "8f737a18-2985-4d6c-9336-23bd92dde924",
   "metadata": {},
   "outputs": [
    {
     "data": {
      "text/plain": [
       "'H`(%`\"3(ee)%a`@ \"'"
      ]
     },
     "execution_count": 25,
     "metadata": {},
     "output_type": "execute_result"
    }
   ],
   "source": [
    "attack.restore_key(determined_key_length, ciphertext[:100])"
   ]
  },
  {
   "cell_type": "markdown",
   "id": "723d4125-82a0-41ad-8eaf-1567c21f0c13",
   "metadata": {},
   "source": [
    "Restore the `17` characters key using a cipher text of `1000` characters length:"
   ]
  },
  {
   "cell_type": "code",
   "execution_count": 26,
   "id": "f955a607-52e5-4ee5-884f-b2c472ccd97c",
   "metadata": {},
   "outputs": [
    {
     "data": {
      "text/plain": [
       "'a very secret key'"
      ]
     },
     "execution_count": 26,
     "metadata": {},
     "output_type": "execute_result"
    }
   ],
   "source": [
    "attack.restore_key(determined_key_length, ciphertext[:1000])"
   ]
  },
  {
   "cell_type": "markdown",
   "id": "5775907a-7511-4b62-bb70-cc7692841b46",
   "metadata": {},
   "source": [
    "Which length of the ciphertext is required to fully restore the `17` characters long key?"
   ]
  },
  {
   "cell_type": "code",
   "execution_count": 27,
   "id": "0f8e2629-7e18-40a4-a854-b18cfe2f8368",
   "metadata": {},
   "outputs": [
    {
     "data": {
      "image/png": "[encoded data removed]",
      "text/plain": [
       "<Figure size 800x300 with 1 Axes>"
      ]
     },
     "metadata": {},
     "output_type": "display_data"
    }
   ],
   "source": [
    "ciphertext_size = []\n",
    "similarity = []\n",
    "\n",
    "for s in range(20, 800, 20):\n",
    "    restored_key = attack.restore_key(determined_key_length, ciphertext[:s])\n",
    "    ciphertext_size.append(s)\n",
    "    similarity.append(difflib.SequenceMatcher(a='a very secret key', b=restored_key).ratio())\n",
    "\n",
    "plt.subplots(figsize=(8, 3))\n",
    "plt.ylim(0, 1.1)\n",
    "plt.grid()\n",
    "plt.xlabel('Size of Cipher Text')\n",
    "plt.ylabel('Key Similarity')\n",
    "plt.plot(ciphertext_size, similarity);"
   ]
  },
  {
   "cell_type": "markdown",
   "id": "5377a057-78fb-4524-bebf-b19acf1815b4",
   "metadata": {},
   "source": [
    "### Course Exercise\n",
    "\n",
    "Given the following cipher text from the Coursera course, let's try to decrypt it:"
   ]
  },
  {
   "cell_type": "code",
   "execution_count": 28,
   "id": "c331d57e-560c-4c16-a8f3-d774069d912a",
   "metadata": {},
   "outputs": [],
   "source": [
    "ciphertext = '''\n",
    "F96DE8C227A259C87EE1DA2AED57C93FE5DA36ED4EC87EF2C63AAE5B9A7EFFD673BE4ACF7BE8923CAB1ECE7AF2DA3DA44FCF7AE29235A24\n",
    "C963FF0DF3CA3599A70E5DA36BF1ECE77F8DC34BE129A6CF4D126BF5B9A7CFEDF3EB850D37CF0C63AA2509A76FF9227A55B9A6FE3D720A8\n",
    "50D97AB1DD35ED5FCE6BF0D138A84CC931B1F121B44ECE70F6C032BD56C33FF9D320ED5CDF7AFF9226BE5BDE3FF7DD21ED56CF71F5C036A\n",
    "94D963FF8D473A351CE3FE5DA3CB84DDB71F5C17FED51DC3FE8D732BF4D963FF3C727ED4AC87EF5DB27A451D47EFD9230BF47CA6BFEC12A\n",
    "BE4ADF72E29224A84CDF3FF5D720A459D47AF59232A35A9A7AE7D33FB85FCE7AF5923AA31EDB3FF7D33ABF52C33FF0D673A551D93FFCD33\n",
    "DA35BC831B1F43CBF1EDF67F0DF23A15B963FE5DA36ED68D378F4DC36BF5B9A7AFFD121B44ECE76FEDC73BE5DD27AFCD773BA5FC93FE5DA\n",
    "3CB859D26BB1C63CED5CDF3FE2D730B84CDF3FF7DD21ED5ADF7CF0D636BE1EDB79E5D721ED57CE3FE6D320ED57D469F4DC27A85A963FF3C\n",
    "727ED49DF3FFFDD24ED55D470E69E73AC50DE3FE5DA3ABE1EDF67F4C030A44DDF3FF5D73EA250C96BE3D327A84D963FE5DA32B91ED36BB1\n",
    "D132A31ED87AB1D021A255DF71B1C436BF479A7AF0C13AA14794'''\n",
    "\n",
    "ciphertext = ciphertext.replace('\\n', '')\n",
    "ciphertext = [ciphertext[i:i+2] for i in range(0, len(ciphertext), 2)]"
   ]
  },
  {
   "cell_type": "code",
   "execution_count": 29,
   "id": "a226e65a-e8a9-4416-96fa-a393fec4fbfb",
   "metadata": {},
   "outputs": [
    {
     "name": "stdout",
     "output_type": "stream",
     "text": [
      "Determined key length: 21\n"
     ]
    }
   ],
   "source": [
    "attack = VariantVigenereCipherAttack()\n",
    "determined_key_length, L2norms = attack.determine_key_length(ciphertext, max_key_length=22)\n",
    "\n",
    "print(f'Determined key length: {determined_key_length}')"
   ]
  },
  {
   "cell_type": "code",
   "execution_count": 30,
   "id": "74ae06d2-74c2-4706-95e0-76eb6339f2f1",
   "metadata": {},
   "outputs": [
    {
     "data": {
      "image/png": "[encoded data removed]",
      "text/plain": [
       "<Figure size 600x300 with 1 Axes>"
      ]
     },
     "metadata": {},
     "output_type": "display_data"
    }
   ],
   "source": [
    "plt.subplots(figsize=(6, 3))\n",
    "plt.xlabel('Key Length')\n",
    "plt.ylabel('L2 Norm')\n",
    "plt.bar([n for _, n in L2norms], [p for p, _ in L2norms], width=0.6, alpha=0.5);"
   ]
  },
  {
   "cell_type": "markdown",
   "id": "483d7ef3-82fa-4c5d-b768-fcaabc728bc0",
   "metadata": {},
   "source": [
    "we choose a key length of `7`"
   ]
  },
  {
   "cell_type": "code",
   "execution_count": 31,
   "id": "25aa5098-83bc-4884-aa09-807fcdd56451",
   "metadata": {},
   "outputs": [
    {
     "data": {
      "text/plain": [
       "['0xba', '0x1f', '0x91', '0xb2', '0x53', '0xcd', '0x3e']"
      ]
     },
     "execution_count": 31,
     "metadata": {},
     "output_type": "execute_result"
    }
   ],
   "source": [
    "key = [hex(ord(c)) for c in attack.restore_key(7, ciphertext)]\n",
    "key"
   ]
  },
  {
   "cell_type": "code",
   "execution_count": 32,
   "id": "2e58c924-4848-42bb-8279-2bf778cd8ec1",
   "metadata": {},
   "outputs": [
    {
     "data": {
      "text/plain": [
       "'Cryptography is the practice and study of techniques for, among other things, secure communication in the presence of attackers. Cryptography has been used for hundreds, if not thousands, of years, but traditional cryptosystems were designed and evaluated in a fairly ad hoc manner. For example, the Vigenere encryption scheme was thought to be secure for decades after it was invented, but we now know, and this exercise demonstrates, that it can be broken very easily.'"
      ]
     },
     "execution_count": 32,
     "metadata": {},
     "output_type": "execute_result"
    }
   ],
   "source": [
    "cipher = VariantVigenereCipher(key)\n",
    "cipher.dec(ciphertext)"
   ]
  },
  {
   "cell_type": "markdown",
   "id": "b3760d15-6658-4eb8-96ed-fa057afa5803",
   "metadata": {},
   "source": [
    "## One-Time Pad Cipher\n",
    "\n",
    "The one-time pad **encryption scheme** is the following:\n",
    "\n",
    "* $\\textbf{M} = \\{0, 1\\}^n$\n",
    "\n",
    "* $\\text{Gen}$: choose an uniform **key** $k \\in \\{0, 1\\}^n$.\n",
    "\n",
    "* $\\text{Enc}_k(m) = k \\oplus m$\n",
    "\n",
    "* $\\text{Dec}_k(c) = k \\oplus c$\n",
    "\n",
    "<br>\n",
    "\n",
    "**Data Representation**:\n",
    "\n",
    "1. The **plaintext** file is represented in ASCII\n",
    "\n",
    "2. The **key** file and **ciphertext** file is represented in **hex-digits** written in ASCII"
   ]
  },
  {
   "cell_type": "code",
   "execution_count": 33,
   "id": "60d28c0d-fe50-4f04-aa82-6e98e855380b",
   "metadata": {},
   "outputs": [],
   "source": [
    "import secrets\n",
    "from textwrap import wrap\n",
    "\n",
    "class OneTimePadCipher:\n",
    "    def gen(self, length):\n",
    "        '''\n",
    "        returns hex-digits representation of the key, e.g. 'eb2fb5fd85114e72eabddcbc'\n",
    "        '''\n",
    "        key = secrets.token_hex(length)\n",
    "        return key\n",
    "    \n",
    "    def enc(self, plaintext, key = None):\n",
    "        '''\n",
    "        expects non encoded plaintext in ascii. if nor key is given, then a key is generated\n",
    "        returns hex-digits representation of the key and the ciphertext, e.g. '48656c6c6f20576f726c6421'\n",
    "        '''\n",
    "        if not key:\n",
    "            key = self.gen(len(plaintext))\n",
    "        text = [hex(ord(c))[2:].zfill(2) for c in plaintext]\n",
    "        ciphertext = [hex(int(m, 16) ^ int(k, 16))[2:].zfill(2) for m, k in zip(text, wrap(key, 2))]\n",
    "        return key, ''.join(ciphertext)\n",
    "\n",
    "    def dec(self, key, ciphertext):\n",
    "        '''\n",
    "        expects hex-digits representation of the key and the ciphertext\n",
    "        returns plaintext\n",
    "        '''\n",
    "        plaintext = [hex(int(c, 16) ^ int(k, 16))[2:] for c, k in zip(wrap(ciphertext, 2), wrap(key, 2))]\n",
    "        return \"\".join([chr(int(t, 16)) for t in plaintext])"
   ]
  },
  {
   "cell_type": "code",
   "execution_count": 34,
   "id": "26a49a10-65e3-4745-b3a5-921b09c76514",
   "metadata": {},
   "outputs": [
    {
     "data": {
      "text/plain": [
       "('05ce70e880099ca551ca63aa', '4dab1c84ef29cbca23a6078b')"
      ]
     },
     "execution_count": 34,
     "metadata": {},
     "output_type": "execute_result"
    }
   ],
   "source": [
    "cipher = OneTimePadCipher()\n",
    "key, ciphertext = cipher.enc('Hello World!')\n",
    "key, ciphertext"
   ]
  },
  {
   "cell_type": "code",
   "execution_count": 35,
   "id": "c64ebefc-a0d2-4705-a9a0-fea5bbe23ec6",
   "metadata": {},
   "outputs": [
    {
     "data": {
      "text/plain": [
       "'Hello World!'"
      ]
     },
     "execution_count": 35,
     "metadata": {},
     "output_type": "execute_result"
    }
   ],
   "source": [
    "plaintext = cipher.dec(key, ciphertext)\n",
    "plaintext"
   ]
  },
  {
   "cell_type": "markdown",
   "id": "76674fa5-7141-4cff-9900-f68086585874",
   "metadata": {},
   "source": [
    "### Course Exercise\n",
    "\n",
    "Given the following seven ciphertexts, each of which was generated by encrypting some 31-character ASCII plaintext with the **one-time pad** using the **same key**"
   ]
  },
  {
   "cell_type": "code",
   "execution_count": 2,
   "id": "f5b953dd-8e01-4052-af66-015e012f9d74",
   "metadata": {},
   "outputs": [],
   "source": [
    "ciphers = [\n",
    "    \"BB3A65F6F0034FA957F6A767699CE7FABA855AFB4F2B520AEAD612944A801E\",\n",
    "    \"BA7F24F2A35357A05CB8A16762C5A6AAAC924AE6447F0608A3D11388569A1E\",\n",
    "    \"A67261BBB30651BA5CF6BA297ED0E7B4E9894AA95E300247F0C0028F409A1E\",\n",
    "    \"A57261F5F0004BA74CF4AA2979D9A6B7AC854DA95E305203EC8515954C9D0F\",\n",
    "    \"BB3A70F3B91D48E84DF0AB702ECFEEB5BC8C5DA94C301E0BECD241954C831E\",\n",
    "    \"A6726DE8F01A50E849EDBC6C7C9CF2B2A88E19FD423E0647ECCB04DD4C9D1E\",\n",
    "    \"BC7570BBBF1D46E85AF9AA6C7A9CEFA9E9825CFD5E3A0047F7CD009305A71E\"\n",
    "]"
   ]
  },
  {
   "cell_type": "markdown",
   "id": "03b0f5ca-3589-47ce-b1de-b7472b8ede73",
   "metadata": {},
   "source": [
    "Let's try to decrypt it by leveraging the **ASCII-exploit** of the **one-time pad** and some **guessing**:"
   ]
  },
  {
   "cell_type": "code",
   "execution_count": 11,
   "id": "93993c19-27cd-4b6a-8a8c-e6426616192b",
   "metadata": {},
   "outputs": [],
   "source": [
    "from textwrap import wrap\n",
    "\n",
    "def xor(a, b):\n",
    "    return [format(int(int(a, 16) ^ int(b, 16)), '08b') for a, b in zip(wrap(a, 2), wrap(b, 2))]\n",
    "\n",
    "def is_letter(b):\n",
    "    return True if (b >= 65 and b <= 90) or (b >= 97 and b <= 122) or (b == 0) else False\n",
    "\n",
    "key = {}\n",
    "for i in range(0, len(ciphers)):\n",
    "    letters = {}\n",
    "    for j in range(0, len(ciphers)):\n",
    "        if j == i:\n",
    "            continue\n",
    "        tmp = xor(ciphers[i], ciphers[j])\n",
    "        for k in range(0, len(tmp)):\n",
    "            if is_letter(int(tmp[k], 2)):\n",
    "                if k in letters:\n",
    "                    letters[k] = letters[k] + 1\n",
    "                else:\n",
    "                    letters[k] = 1\n",
    "    letters = {k: v for k, v in letters.items() if v >= (len(ciphers) - 2)}    # only if spaces at least in 5 other messages\n",
    "    for k in letters.keys():\n",
    "        key[k] = int(ciphers[i][2*k:2*k+2], 16) ^ ord(' ')"
   ]
  },
  {
   "cell_type": "code",
   "execution_count": 12,
   "id": "1d5138c3-bd51-4e92-82af-825cec9b60c9",
   "metadata": {},
   "outputs": [
    {
     "name": "stdout",
     "output_type": "stream",
     "text": [
      "⬚ am p⬚a⬚n⬚ng a s⬚cr⬚t missio⬚ \n",
      "⬚e is ⬚h⬚ ⬚nly pe⬚so⬚ to trus⬚ \n",
      "⬚he cu⬚r⬚n⬚ plan ⬚s ⬚op secre⬚ \n",
      "⬚hen s⬚o⬚l⬚ we me⬚t ⬚o do thi⬚1\n",
      "⬚ thin⬚ ⬚h⬚y shou⬚d ⬚ollow hi⬚ \n",
      "⬚his i⬚ ⬚u⬚er tha⬚ t⬚at one i⬚ \n",
      "⬚ot on⬚ ⬚a⬚et is ⬚et⬚er than ⬚ \n"
     ]
    }
   ],
   "source": [
    "for cipher in ciphers:\n",
    "    print(''.join([chr(int(c, 16) ^ key[i]) if i in key else '⬚' for i, c in enumerate(wrap(cipher, 2))]))"
   ]
  },
  {
   "cell_type": "code",
   "execution_count": 13,
   "id": "b3809af5-bdc2-46ca-af76-2415906a6b4d",
   "metadata": {},
   "outputs": [],
   "source": [
    "# iteratively guessing and adjusting the key\n",
    "key[0] = int(wrap(ciphers[0], 2)[0], 16) ^ ord('I')    # first letter in first cipher is probably an 'I'\n",
    "key[6] = int(wrap(ciphers[5], 2)[6], 16) ^ ord('s')    # ...\n",
    "key[8] = int(wrap(ciphers[0], 2)[8], 16) ^ ord('n')\n",
    "key[10] = int(wrap(ciphers[0], 2)[10], 16) ^ ord('i')\n",
    "key[17] = int(wrap(ciphers[0], 2)[17], 16) ^ ord('e')\n",
    "key[20] = int(wrap(ciphers[0], 2)[20], 16) ^ ord('e')\n",
    "key[29] = int(wrap(ciphers[0], 2)[29], 16) ^ ord('n')\n",
    "key[30] = int(wrap(ciphers[3], 2)[30], 16) ^ ord('?')"
   ]
  },
  {
   "cell_type": "code",
   "execution_count": 14,
   "id": "33e3ca00-0dc3-4e89-917d-c3935d621cb5",
   "metadata": {},
   "outputs": [
    {
     "name": "stdout",
     "output_type": "stream",
     "text": [
      "I am planning a secret mission.\n",
      "He is the only person to trust.\n",
      "The current plan is top secret.\n",
      "When should we meet to do this?\n",
      "I think they should follow him.\n",
      "This is purer than that one is.\n",
      "Not one cadet is better than I.\n"
     ]
    }
   ],
   "source": [
    "for cipher in ciphers:\n",
    "    print(''.join([chr(int(c, 16) ^ key[i]) if i in key else '⬚' for i, c in enumerate(wrap(cipher, 2))]))"
   ]
  },
  {
   "cell_type": "code",
   "execution_count": null,
   "id": "9e4ff006-9145-45d1-84b9-a23a0a39535f",
   "metadata": {},
   "outputs": [],
   "source": []
  }
 ],
 "metadata": {
  "kernelspec": {
   "display_name": "Python 3 (ipykernel)",
   "language": "python",
   "name": "python3"
  },
  "language_info": {
   "codemirror_mode": {
    "name": "ipython",
    "version": 3
   },
   "file_extension": ".py",
   "mimetype": "text/x-python",
   "name": "python",
   "nbconvert_exporter": "python",
   "pygments_lexer": "ipython3",
   "version": "3.12.1"
  }
 },
 "nbformat": 4,
 "nbformat_minor": 5
}
