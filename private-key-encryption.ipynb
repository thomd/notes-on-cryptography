{
 "cells": [
  {
   "cell_type": "markdown",
   "id": "451ed5fa-8277-4f82-bf83-7aee8e349847",
   "metadata": {},
   "source": [
    "# Private-Key Encryption\n",
    "\n",
    "A **private-key encryption scheme** is defined by a **message space** $M$ and algorithms $\\text{Gen}$, $\\text{Enc}$ and $\\text{Dec}$:\n",
    "\n",
    "* $\\text{Gen}$ (key generation algorithm): generates **key** $k$\n",
    "\n",
    "* $\\text{Enc}$ (encryption algorithm): takes key $k$ and **message** $m \\in M$ as input; outputs **ciphertexst** $c$\n",
    "\n",
    "$$c \\gets \\text{Enc}_k (m)$$\n",
    "\n",
    "* $\\text{Dec}$ (decryption algorithm): takes key $k$ and ciphertext $c$ as input; outputs message $m$ or \"error\"\n",
    "\n",
    "$$m := \\text{Dec}_k (c)$$\n",
    "\n",
    "with\n",
    "\n",
    "$$\\text{Dec}_k(\\text{Enc}_k(m)) = m$$\n",
    "\n",
    "#### Note on the Notation\n",
    "\n",
    "* The **left arrow** $\\gets$ notation denotes assignment to the output of an algorithm that might be **randomized**. Meaning that the output of the algorithm may be different, even when run twice on the same set of inputs.\n",
    "\n",
    "* The **colon equals** $:=$ denotes an assignment to the output of a **deterministic** algorithm. \n",
    "\n",
    "* A single **equal sign** $=$ denotes mathematical equality in contrast to an assignment."
   ]
  },
  {
   "cell_type": "markdown",
   "id": "7bde117d-5312-488f-b8c3-034f51ab3e90",
   "metadata": {},
   "source": [
    "## Shift Cipher\n",
    "\n",
    "The Shift Cipher, a.k.a. Caesar Cipher, is defined as\n",
    "\n",
    "* $M = \\{\\text{strings over lowercase English alphabet}\\}$\n",
    "\n",
    "* $Gen$: choose uniform $k \\in \\{0, \\ldots, 25\\}$\n",
    "\n",
    "* $Enc_k(m_1 \\ldots m_t)$: output $c_1 \\ldots c_t$ where $c_i := m_i + k \\pmod{26}$\n",
    "\n",
    "* $Dec_k(c_1 \\ldots c_t)$: output $m_1 \\ldots m_t$ where $m_i := c_i - k \\pmod{26}$\n",
    "\n",
    "The **Shift Cipher** is **not secure** as it has only 26 possible keys, i.e. the **key space** has a size of $26$.\n",
    "\n",
    "Given a ciphertext, try decrypting with every possible key. If ciphertext is long enough, only one possibility will \"make sense\"."
   ]
  },
  {
   "cell_type": "code",
   "execution_count": 40,
   "id": "23c74159-22f1-4a1e-b1eb-eed536da63f1",
   "metadata": {},
   "outputs": [],
   "source": [
    "class ShiftCipher:\n",
    "    '''\n",
    "    helloworld\n",
    "    cccccccccc\n",
    "    ----------\n",
    "    jgnnqyqtnf\n",
    "    '''\n",
    "    \n",
    "    alphas = \"abcdefghijklmnopqrstuvwxyz\"\n",
    "\n",
    "    def __init__(self, key):\n",
    "        self.key = key\n",
    "\n",
    "    def enc(self, text):\n",
    "        ciphertext = \"\"\n",
    "        for m in text:\n",
    "            c = self.alphas[(self.alphas.find(m) + self.alphas.find(self.key)) % len(self.alphas)]\n",
    "            ciphertext += c if m in self.alphas else m\n",
    "        return ciphertext\n",
    "\n",
    "    def dec(self, ciphertext):\n",
    "        text = \"\"\n",
    "        for c in ciphertext:\n",
    "            m = self.alphas[(self.alphas.find(c) - self.alphas.find(self.key)) % len(self.alphas)]\n",
    "            text += m if c in self.alphas else c\n",
    "        return text"
   ]
  },
  {
   "cell_type": "code",
   "execution_count": 41,
   "id": "6f8dc4b0-d719-47e3-80ee-0385d51c4358",
   "metadata": {},
   "outputs": [
    {
     "data": {
      "text/plain": [
       "'jgnnqyqtnf'"
      ]
     },
     "execution_count": 41,
     "metadata": {},
     "output_type": "execute_result"
    }
   ],
   "source": [
    "cipher = ShiftCipher('c')\n",
    "cipher.enc('helloworld')"
   ]
  },
  {
   "cell_type": "code",
   "execution_count": 42,
   "id": "02c406c2-7187-43ec-adb4-2b4543c7d0e6",
   "metadata": {},
   "outputs": [
    {
     "data": {
      "text/plain": [
       "'helloworld'"
      ]
     },
     "execution_count": 42,
     "metadata": {},
     "output_type": "execute_result"
    }
   ],
   "source": [
    "cipher.dec(cipher.enc('helloworld'))"
   ]
  },
  {
   "cell_type": "markdown",
   "id": "5a05bcd4-2ea9-40b8-90dc-d6ffe63d1666",
   "metadata": {},
   "source": [
    "## Vigenère Cipher\n",
    "\n",
    "In the Vigenère cypher, the key is a string rather than just a single character:\n",
    "\n",
    "* $M = \\{\\text{strings over lowercase English alphabet}\\}$\n",
    "\n",
    "* $Gen$: string $k \\in \\{k_1, \\ldots, k_u\\}$ with $k_i \\in M$ and length $u$. String is wraped around if $u < t$\n",
    "\n",
    "* $Enc_k(m_1 \\ldots m_t)$: output $c_1 \\ldots c_t$ where $c_i := m_i + k_i \\pmod{26}$\n",
    "\n",
    "* $Dec_k(c_1 \\ldots c_t)$: output $m_1 \\ldots m_t$ where $m_i := c_i - k_i \\pmod{26}$\n",
    "\n",
    "The size of the **key space** is ${26}^u$, e.g. if a key has a size $u = 14$, then the key space has a size of ${26}^{14} \\approx 2^{66}$ which makes a brute-force search expersive or impossilble.\n",
    "\n",
    "The **Vigenère Cipher** is not secure though, as there are other attack vectors."
   ]
  },
  {
   "cell_type": "code",
   "execution_count": 43,
   "id": "cb4ec9a0-d236-43b6-a677-3f0f52782077",
   "metadata": {},
   "outputs": [],
   "source": [
    "class VigenereCipher:\n",
    "    '''\n",
    "    tellhimaboutme\n",
    "    cafecafecafeca\n",
    "    --------------\n",
    "    veqpjiredozxoe    \n",
    "    '''\n",
    "    \n",
    "    alphas = \"abcdefghijklmnopqrstuvwxyz\"\n",
    "    \n",
    "    def __init__(self, key):\n",
    "        self.key = key\n",
    "\n",
    "    def enc(self, plaintext):\n",
    "        ciphertext = \"\"\n",
    "        for u, m in enumerate(plaintext):\n",
    "            k = self.key[u % len(self.key)]\n",
    "            c = self.alphas[(self.alphas.find(m) + self.alphas.find(k)) % len(self.alphas)]\n",
    "            ciphertext += c if m in self.alphas else m\n",
    "        return ciphertext\n",
    "\n",
    "    def dec(self, ciphertext):\n",
    "        text = \"\"\n",
    "        for u, c in enumerate(ciphertext):\n",
    "            k = self.key[u % len(self.key)]\n",
    "            m = self.alphas[(self.alphas.find(c) - self.alphas.find(k)) % len(self.alphas)]\n",
    "            text += m if c in self.alphas else c\n",
    "        return text"
   ]
  },
  {
   "cell_type": "code",
   "execution_count": 44,
   "id": "7d8dd9cb-0076-451e-9e9a-6f4053d62ae1",
   "metadata": {},
   "outputs": [
    {
     "data": {
      "text/plain": [
       "'veqpjiredozxoe'"
      ]
     },
     "execution_count": 44,
     "metadata": {},
     "output_type": "execute_result"
    }
   ],
   "source": [
    "cipher = VigenereCipher('cafe')\n",
    "cipher.enc('tellhimaboutme')"
   ]
  },
  {
   "cell_type": "code",
   "execution_count": 45,
   "id": "93e29fc5-9c76-4803-bb4b-9973b7bbfbc1",
   "metadata": {},
   "outputs": [
    {
     "data": {
      "text/plain": [
       "'tellhimaboutme'"
      ]
     },
     "execution_count": 45,
     "metadata": {},
     "output_type": "execute_result"
    }
   ],
   "source": [
    "cipher.dec(cipher.enc('tellhimaboutme'))"
   ]
  },
  {
   "cell_type": "markdown",
   "id": "92771a70-4aee-489e-b6ed-5dc4a7b49eea",
   "metadata": {},
   "source": [
    "## Variant of the Vigenère Cipher\n",
    "\n",
    "This variant works with **ASCII plaintext**, **HEX ciphertext** and with **byte-wise XOR** rather than modular addition.\n",
    "\n",
    "* The key is a string of bytes\n",
    "\n",
    "* The plaintext is a string of ASCII characters\n",
    "\n",
    "* To enctrypt, XOR each character of the plaintext with the next character of the key\n",
    "\n",
    "\n",
    "* $M = \\{\\text{characters from an ASCII table}\\}$\n",
    "\n",
    "* $Gen$: bytes $b = b_1, \\ldots, b_u$ represented in HEX with length $u$. bytes are wraped around if $u < t$\n",
    "\n",
    "* $Enc_b(m_1 \\ldots m_t)$: output $c_1 \\ldots c_t$ where $c_i := m_i \\oplus b_i$\n",
    "\n",
    "* $Dec_b(c_1 \\ldots c_t)$: output $m_1 \\ldots m_t$ where $m_i := c_i \\oplus b_i$"
   ]
  },
  {
   "cell_type": "code",
   "execution_count": 46,
   "id": "24b6ee96-1471-4113-b40b-77ef88fe3556",
   "metadata": {},
   "outputs": [],
   "source": [
    "class VariantVigenereCipher:\n",
    "    '''\n",
    "    Hello!\n",
    "    0xA1 0x2F 0xA1 0x2F 0xA1 0x2F\n",
    "    -----------------------------\n",
    "    0xE9 0x4A 0xCD 0x43 0xCE 0x0E\n",
    "    '''\n",
    "    \n",
    "    def __init__(self, key):\n",
    "        self.key = key\n",
    "\n",
    "    def xor(self, a, b):\n",
    "        b = len(a) // len(b) * b + b[:len(a) % len(b)]                 # repeate b to have same size as a\n",
    "        return [int(c1, 16) ^ int(c2, 16) for (c1, c2) in zip(a, b)]   # XOR byte wise\n",
    "        \n",
    "    def enc(self, plaintext):\n",
    "        text = [hex(ord(c)) for c in plaintext]\n",
    "        ciphertext = self.xor(text, self.key)\n",
    "        return [hex(c) for c in ciphertext]\n",
    "\n",
    "    def dec(self, ciphertext):\n",
    "        plaintext = self.xor(ciphertext, self.key)\n",
    "        return \"\".join([chr(c) for c in plaintext])\n"
   ]
  },
  {
   "cell_type": "code",
   "execution_count": 47,
   "id": "22a29394-de37-4c6b-ba2b-d6f3aad59982",
   "metadata": {},
   "outputs": [
    {
     "data": {
      "text/plain": [
       "['0xe9', '0x4a', '0xcd', '0x43', '0xce', '0xe']"
      ]
     },
     "execution_count": 47,
     "metadata": {},
     "output_type": "execute_result"
    }
   ],
   "source": [
    "key = ['0xa1', '0x2f']\n",
    "cipher = VariantVigenereCipher(key)\n",
    "cipher.enc('Hello!')"
   ]
  },
  {
   "cell_type": "code",
   "execution_count": 48,
   "id": "65e529d3-244d-4919-9c93-b1bd8feb03fe",
   "metadata": {},
   "outputs": [
    {
     "data": {
      "text/plain": [
       "'Hello!'"
      ]
     },
     "execution_count": 48,
     "metadata": {},
     "output_type": "execute_result"
    }
   ],
   "source": [
    "cipher.dec(cipher.enc('Hello!'))"
   ]
  },
  {
   "cell_type": "markdown",
   "id": "12341230-8099-45f4-9ff5-a3078ce91e71",
   "metadata": {},
   "source": [
    "## Breaking the Vigenère Ciper\n",
    "\n",
    "The Vigenère Ciper can easily be attacked using **plaintext letter frequencies**."
   ]
  },
  {
   "cell_type": "code",
   "execution_count": 49,
   "id": "f91a1844-6455-49ff-a085-42947b118a1d",
   "metadata": {},
   "outputs": [],
   "source": [
    "import requests\n",
    "import string\n",
    "from collections import Counter\n",
    "import matplotlib.pyplot as plt\n",
    "\n",
    "url = 'https://www.gutenberg.org/cache/epub/1661/pg1661.txt' # The Project Gutenberg eBook of The Adventures of Sherlock Holmes\n",
    "text = [t for t in requests.get(url).text.lower() if t in string.ascii_lowercase] # we want only [a-z]\n",
    "counter = Counter(text)\n",
    "\n",
    "s = sum(counter.values())\n",
    "letters = sorted(counter)\n",
    "frequencies = [counter[c] / s * 100 for c in letters]"
   ]
  },
  {
   "cell_type": "code",
   "execution_count": 50,
   "id": "12c26d47-7b84-415f-9325-364a2340425c",
   "metadata": {},
   "outputs": [
    {
     "data": {
      "image/png": "[encoded data removed]",
      "text/plain": [
       "<Figure size 1000x300 with 1 Axes>"
      ]
     },
     "metadata": {},
     "output_type": "display_data"
    }
   ],
   "source": [
    "fig, ax = plt.subplots(figsize=(10, 3))\n",
    "bars = ax.bar(letters, frequencies, width=0.8, color='g', alpha=0.5)\n",
    "plt.ylabel('Letter frequency in %')\n",
    "plt.ylim(0, 14)\n",
    "ax.bar_label(bars, fmt='%.1f', padding=3);"
   ]
  },
  {
   "cell_type": "code",
   "execution_count": 63,
   "id": "5e7f4371-8a0c-455b-9610-703866ab2718",
   "metadata": {},
   "outputs": [
    {
     "name": "stdout",
     "output_type": "stream",
     "text": [
      "The most common letter is 'e' with index 4\n"
     ]
    }
   ],
   "source": [
    "alphas = \"abcdefghijklmnopqrstuvwxyz \"\n",
    "most_common_letter = counter.most_common()[0][0]\n",
    "most_common_i = alphas.find(most_common_letter)\n",
    "\n",
    "print(f'The most common letter is \\'{most_common_letter}\\' with index {most_common_i}')"
   ]
  },
  {
   "cell_type": "markdown",
   "id": "e16bd76d-28d8-4254-b0d5-21133505db27",
   "metadata": {},
   "source": [
    "### Method 1: We know the Key Size\n",
    "\n",
    "Supposed the key is $15$ characters long\n",
    "\n",
    "1. look at every $15^{\\text{th}}$ character of the cipertext, starting with the first\n",
    "2. Let $\\alpha$ be the most common character appearing in this portion of the cipertext\n",
    "3. Most likely this character corresponds to the most common plaintexyt character $e$\n",
    "4. Guess the first character of the key is $\\alpha - e = \\alpha - 4$\n",
    "5. Repeat for all other positions"
   ]
  },
  {
   "cell_type": "code",
   "execution_count": 52,
   "id": "685a1385-e27f-43bc-a3ce-2a6015c2fd5f",
   "metadata": {},
   "outputs": [],
   "source": [
    "def restore_vigenere_key(key_length, ciphertext):\n",
    "    restored_key = \"\"\n",
    "    # repeat for all key positions\n",
    "    for k in range(1, key_length + 1):\n",
    "    \n",
    "        # get every 15th character of the cipertext\n",
    "        c_k = Counter([ciphertext[i+k-1:i+k] for i in range(0, len(ciphertext), key_length)])\n",
    "    \n",
    "        # let 'a' be the most common character-index appearing in this portion of the cipertext\n",
    "        a = alphas.find(c_k.most_common()[0][0])\n",
    "    \n",
    "        # guess the character at position 'k' of the key\n",
    "        restored_key += alphas[a - most_common_i]\n",
    "        \n",
    "    return restored_key"
   ]
  },
  {
   "cell_type": "code",
   "execution_count": 53,
   "id": "1c4ff29a-01a9-43c3-b6b2-8c3f612c5d58",
   "metadata": {},
   "outputs": [],
   "source": [
    "url = 'https://www.gutenberg.org/cache/epub/4300/pg4300.txt' # The Project Gutenberg eBook of Ulysses\n",
    "text = [t for t in requests.get(url).text.lower() if t in string.ascii_lowercase] # we want only [a-z]\n",
    "text = \"\".join(text)"
   ]
  },
  {
   "cell_type": "code",
   "execution_count": 54,
   "id": "d6d24eef-c61b-4a4d-8b8b-cdbb6d8bd0c3",
   "metadata": {},
   "outputs": [],
   "source": [
    "key = 'myverysecretkey'\n",
    "cipher = VigenereCipher(key)\n",
    "ciphertext = cipher.enc(text)"
   ]
  },
  {
   "cell_type": "markdown",
   "id": "13985854-8206-4b3e-8c52-d05d2d3e33d5",
   "metadata": {},
   "source": [
    "Restore the key using a cipher text of length 1000 chars:"
   ]
  },
  {
   "cell_type": "code",
   "execution_count": 55,
   "id": "d5ff9c4e-3b74-42c6-9994-0a0e3ca29f57",
   "metadata": {},
   "outputs": [
    {
     "data": {
      "text/plain": [
       "'mzvermsecretzth'"
      ]
     },
     "execution_count": 55,
     "metadata": {},
     "output_type": "execute_result"
    }
   ],
   "source": [
    "restore_vigenere_key(15, ciphertext[:2000])"
   ]
  },
  {
   "cell_type": "markdown",
   "id": "70628fd8-394a-442a-8703-55a3e1c577c3",
   "metadata": {},
   "source": [
    "Restore the key using a cipher text of length `len(ciphertext) = 1197183` chars:"
   ]
  },
  {
   "cell_type": "code",
   "execution_count": 56,
   "id": "f89c89c1-72fc-4fb2-9239-8f5485a4b8f8",
   "metadata": {},
   "outputs": [
    {
     "data": {
      "text/plain": [
       "'mzverzsecretkez'"
      ]
     },
     "execution_count": 56,
     "metadata": {},
     "output_type": "execute_result"
    }
   ],
   "source": [
    "restore_vigenere_key(15, ciphertext)"
   ]
  },
  {
   "cell_type": "markdown",
   "id": "93298058-6b3c-466b-a5f1-af7f8415b976",
   "metadata": {},
   "source": [
    "What size of the cipher text is required to restore the key?"
   ]
  },
  {
   "cell_type": "code",
   "execution_count": 57,
   "id": "5026c998-d39f-4dc7-b5aa-bb5712ff0c90",
   "metadata": {},
   "outputs": [
    {
     "data": {
      "image/png": "[encoded data removed]",
      "text/plain": [
       "<Figure size 800x300 with 1 Axes>"
      ]
     },
     "metadata": {},
     "output_type": "display_data"
    }
   ],
   "source": [
    "import difflib\n",
    "ciphertext_size = []\n",
    "similarity = []\n",
    "for s in range(50, 6000, 50):\n",
    "    restored_key = restore_vigenere_key(15, ciphertext[:s])\n",
    "    ciphertext_size.append(s)\n",
    "    similarity.append(difflib.SequenceMatcher(a=key, b=restored_key).ratio())\n",
    "\n",
    "plt.subplots(figsize=(8, 3))\n",
    "plt.ylim(0, 1)\n",
    "plt.grid()\n",
    "plt.ylabel('Key Similarity')\n",
    "plt.xlabel('Size of Cipher Text')\n",
    "plt.plot(ciphertext_size, similarity);"
   ]
  },
  {
   "cell_type": "markdown",
   "id": "c09ac761-fd7d-4fc2-8481-d84e8f453177",
   "metadata": {},
   "source": [
    "### Method 2: The Key Size is Unknown\n",
    "\n",
    "Here we use the variant of the Vigenèr cipher.\n",
    "\n",
    "We first determine the key length and second determine each byte of the key."
   ]
  },
  {
   "cell_type": "code",
   "execution_count": 230,
   "id": "3adfe75e-fa7c-4e03-b3a1-8b31b103852d",
   "metadata": {},
   "outputs": [],
   "source": [
    "url = 'https://www.gutenberg.org/cache/epub/4300/pg4300.txt' # The Project Gutenberg eBook of Ulysses\n",
    "text = [t for t in requests.get(url).text if ord(t) in list(range(32,127))] # we want only printable ASCII characters\n",
    "text = \"\".join(text)"
   ]
  },
  {
   "cell_type": "code",
   "execution_count": 231,
   "id": "3c21d9ee-e9c5-4062-a735-4144a022e437",
   "metadata": {},
   "outputs": [],
   "source": [
    "key = [hex(ord(c)) for c in 'a very secret key']\n",
    "cipher = VariantVigenereCipher(key)\n",
    "ciphertext = cipher.enc(text)"
   ]
  },
  {
   "cell_type": "markdown",
   "id": "07dbb868-7d4f-401d-833f-af3df3a6cba0",
   "metadata": {},
   "source": [
    "#### Determine the Key Length\n",
    "\n",
    "1. Let $p_i$ for $0 \\leq i \\leq 255$ the frequency of byte $i$ in plaintext with $p_i = 0$ for $i < 32$ and $i > 126$ (these are non printable characters)\n",
    "\n",
    "2. If the key length is $N$, then every $N^{th}$ character of thr plaintext is encryptes using the same \"shift\".\n",
    "\n",
    "3. If we take every $N^{th}$ character and calculate the freuqencies, we should get all $p_i$ in **permuted order**.\n",
    "\n",
    "4. If we take every $M^{th}$ character (with $M$ not a multiple of $N$) and calculate the freuqencies, we should get something close to **unifom** (heuristically speaking).\n",
    "\n",
    "5. Calculate the **L2 norm** of each distribution. The L2 norm of a uniform probability distribution is always smaller of a non-uniform distribution, hence the largest L2 norm allows to identify $N$.\n",
    "\n",
    "<br><br>\n",
    "\n",
    "For a probability distribution $p = [p_1, \\ldots, p_n]$ with $\\sum p_i = 1$, the L2 norm is \n",
    "\n",
    "$$\\|p\\|_2 = \\sqrt{p_1^2 + \\ldots + p_n^2}$$\n",
    "\n",
    "Now consider a uniform distribution $u = [\\frac{1}{n}, \\ldots, \\frac{1}{n}]$, then we have \n",
    "\n",
    "$$\\|u\\|_2 = \\sqrt{n \\cdot \\frac{1}{n^2}} = \\frac{1}{\\sqrt{n}}$$\n",
    "\n",
    "By the **Cauchy-Schwarz Inequality**, we have:\n",
    "\n",
    "$$\\Big(\\sum{}a_i b_i\\Big)^2 \\leq \\sum{}a_i^2 \\cdot \\sum{}b_i^2$$\n",
    "\n",
    "Let $a_i = p_i$ and $b_i = \\frac{1}{n}$. Then\n",
    "\n",
    "$$\n",
    "\\begin{align}\n",
    "\\Big(\\sum{p_i \\frac{1}{n}}\\Big)^2 &\\leq \\sum{}p_i^2 \\cdot \\sum{}\\frac{1}{n^2} \\\\[5pt]\n",
    "\\Big(\\frac{1}{n}\\Big)^2 &\\leq \\sum{}p_i^2 \\cdot \\frac{1}{n} \\\\[5pt]\n",
    "\\frac{1}{n} &\\leq \\sum{}p_i^2 \\\\[5pt]\n",
    "\\sqrt{\\frac{1}{n}} &\\leq \\sqrt{\\sum{}p_i^2} \\\\[10pt]\n",
    "\\|u\\|_2 &\\leq \\|p\\|_2\n",
    "\\end{align}\n",
    "$$"
   ]
  },
  {
   "cell_type": "code",
   "execution_count": 260,
   "id": "776ae473-8135-4319-a69a-2dd6053b0897",
   "metadata": {},
   "outputs": [
    {
     "data": {
      "image/png": "[encoded data removed]",
      "text/plain": [
       "<Figure size 800x300 with 1 Axes>"
      ]
     },
     "metadata": {},
     "output_type": "display_data"
    }
   ],
   "source": [
    "import math\n",
    "L2norms = []\n",
    "for N in range(1, 40):\n",
    "    counter = Counter([c for c in ciphertext[::N]])\n",
    "    L2norm = math.sqrt(sum([(counter[c] / sum(counter.values())) ** 2 for c in counter]))\n",
    "    L2norms.append((L2norm, N))\n",
    "\n",
    "plt.subplots(figsize=(8, 3))\n",
    "plt.bar([n for _, n in L2norms], [p for p, _ in L2norms], alpha=0.5);"
   ]
  },
  {
   "cell_type": "code",
   "execution_count": 261,
   "id": "8d688d57-f4e6-44f1-a28f-6163d44ac60e",
   "metadata": {},
   "outputs": [
    {
     "name": "stdout",
     "output_type": "stream",
     "text": [
      "Key length: 17\n",
      "Determined key length: 17\n"
     ]
    }
   ],
   "source": [
    "key_length = sorted(L2norms, reverse=True)[0][1]\n",
    "print(f'Key length: {len(key)}')\n",
    "print(f'Determined key length: {key_length}')"
   ]
  },
  {
   "cell_type": "markdown",
   "id": "2d9bc8c1-3ecc-4c8b-b584-8bcde94af355",
   "metadata": {},
   "source": [
    "#### Determine Each Byte of the Key"
   ]
  },
  {
   "cell_type": "code",
   "execution_count": null,
   "id": "46895cf4-9c88-4b5c-8cef-e64f1d7f92b2",
   "metadata": {},
   "outputs": [],
   "source": []
  }
 ],
 "metadata": {
  "kernelspec": {
   "display_name": "Python 3 (ipykernel)",
   "language": "python",
   "name": "python3"
  },
  "language_info": {
   "codemirror_mode": {
    "name": "ipython",
    "version": 3
   },
   "file_extension": ".py",
   "mimetype": "text/x-python",
   "name": "python",
   "nbconvert_exporter": "python",
   "pygments_lexer": "ipython3",
   "version": "3.12.1"
  }
 },
 "nbformat": 4,
 "nbformat_minor": 5
}
