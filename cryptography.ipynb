{
 "cells": [
  {
   "cell_type": "markdown",
   "id": "36c475fa-d8fd-448d-9bb0-4646c2bdd8c6",
   "metadata": {},
   "source": [
    "# Private-Key Encryption\n",
    "\n",
    "A **private-key encryption scheme** is defined by a **message space** $M$ and algorithms $\\text{Gen}$, $\\text{Enc}$ and $\\text{Dec}$:\n",
    "\n",
    "* $\\text{Gen}$ (key generation algorithm): generates **key** $k$\n",
    "\n",
    "* $\\text{Enc}$ (encryption algorithm): takes key $k$ and **message** $m \\in M$ as input; outputs **ciphertexst** $c$\n",
    "\n",
    "$$c \\gets \\text{Enc}_k (m)$$\n",
    "\n",
    "* $\\text{Dec}$ (decryption algorithm): takes key $k$ and ciphertext $c$ as input; outputs message $m$ or \"error\"\n",
    "\n",
    "$$m \\coloneqq \\text{Dec}_k (c)$$\n",
    "\n",
    "with\n",
    "\n",
    "$$\\text{Dec}_k(\\text{Enc}_k(m)) = m$$\n",
    "\n",
    "#### Note on the Notation\n",
    "\n",
    "The **left arrow** $\\gets$ notation denotes assignment to the output of an algorithm that might be **randomized**. Meaning that the output of the algorithm may be different, even when run twice on the same set of inputs.\n",
    "\n",
    "The **colon equals** $\\coloneqq$ denotes an assignment to the output of a **deterministic** algorithm. \n",
    "\n",
    "So in this case, this means that we're allowing encryption to possibly be randomized, whereas we're assuming that decryption is deterministic."
   ]
  },
  {
   "cell_type": "markdown",
   "id": "5775bc4b-dc92-4c79-8670-440d9f1f7910",
   "metadata": {},
   "source": [
    "## Examples\n",
    "\n",
    "### Shift Cipher\n",
    "\n",
    "### Vigenere Cipher"
   ]
  },
  {
   "cell_type": "markdown",
   "id": "af3ef114-3a9a-4fba-83b4-455496871fd5",
   "metadata": {},
   "source": [
    " "
   ]
  }
 ],
 "metadata": {
  "kernelspec": {
   "display_name": "Python 3 (ipykernel)",
   "language": "python",
   "name": "python3"
  },
  "language_info": {
   "codemirror_mode": {
    "name": "ipython",
    "version": 3
   },
   "file_extension": ".py",
   "mimetype": "text/x-python",
   "name": "python",
   "nbconvert_exporter": "python",
   "pygments_lexer": "ipython3",
   "version": "3.12.1"
  }
 },
 "nbformat": 4,
 "nbformat_minor": 5
}
