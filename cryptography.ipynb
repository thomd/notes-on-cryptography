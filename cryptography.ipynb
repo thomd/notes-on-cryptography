{
 "cells": [
  {
   "cell_type": "markdown",
   "id": "05f606d0-9d95-4db2-8e2a-77bc9122def6",
   "metadata": {},
   "source": [
    "# Cryptography Basics\n",
    "\n",
    "## Modular Arithmetic\n",
    "\n",
    "$x$ and $x'$ have the same remainder when divided by $N$:\n",
    "\n",
    "$$x = x' \\bmod N$$\n",
    "\n",
    "if and only if $N$ devides $x - x'$, i.e. if $\\frac{a − b}{n}$ has a remainder of $0$.\n",
    "\n",
    "The **bracket notation** denotes the **remainder** when $x$ divided by $N$:\n",
    "\n",
    "$$[x \\bmod N]$$\n",
    "\n",
    "i.e. the unique value $x' \\in \\{0, \\ldots, N-1\\}$ such that $x = x' \\bmod N$\n",
    "\n",
    "---\n",
    "\n",
    "A number $x \\bmod N$ is the equivalent of asking for the remainder of $x$ when divided by $N$. \n",
    "\n",
    "Two integers $a$ and $b$ are said to be **congruent** (or in the same equivalence class) modulo $N$ if they have the same remainder upon division by $N$. In such a case, we say that \n",
    "\n",
    "$$a \\equiv b \\pmod N$$\n",
    "\n",
    "<br>\n",
    "\n",
    "#### Addition in Modular Arithmetic\n",
    "\n",
    "1. If $a + b = c$, then $a \\pmod N + b \\pmod N \\equiv c \\pmod N$\n",
    "\n",
    "2. If $a \\equiv b \\pmod N$, then $a + k \\equiv b + k \\pmod N$ for any integer $k$\n",
    "\n",
    "3. If $a \\equiv b \\pmod N$ and $c \\equiv d \\pmod N$, then $a + c \\equiv b + d \\pmod N$\n",
    "\n",
    "4. If $a \\equiv b \\pmod N$, then $-a \\equiv -b \\pmod N$\n",
    "\n",
    "<br>\n",
    "\n",
    "#### Multiplication in Modular Arithmetic\n",
    "\n",
    "1. If $a \\cdot b = c$, then $a \\pmod N \\cdot b \\pmod N \\equiv c \\pmod N$\n",
    "\n",
    "2. If $a \\equiv b \\pmod N$, then $k \\cdot a \\equiv k \\cdot b \\pmod N$ for any integer $k$\n",
    "\n",
    "3. If $a \\equiv b \\pmod N$ and $c \\equiv d \\pmod N$, then $a \\cdot c \\equiv b \\cdot d \\pmod N$\n",
    "\n",
    "<br>\n",
    "\n",
    "#### Exponentiation in Modular Arithmetic\n",
    "\n",
    "1. If $a \\equiv b \\pmod N$, then $a^k \\equiv b^k \\pmod N$ for any integer $k$\n",
    "\n",
    "<br>\n",
    "\n",
    "#### Division in Modular Arithmetic\n",
    "\n",
    "1. If $\\gcd(k, N) = 1$ and $k \\cdot a \\equiv k \\cdot b \\pmod N$, then $a \\equiv b \\pmod N$\n",
    "\n",
    "This property is true, because if $k \\cdot (a−b)$ is a multiple of $N$ and $\\gcd(k, N) = 1$, then $N$ must divide $a-b$, or equivalently $a \\equiv b \\pmod N$.\n",
    "\n",
    "**Example**: Consider $4 \\equiv 8 \\pmod 4$. Note that we cannot simply divide both sides of the equation by $2$, since $2 \\not \\equiv 4 \\pmod 4$.\n",
    "\n",
    "<br>\n",
    "\n",
    "#### Multiplicative Inverse in Modular Arithmetic\n",
    "\n",
    "If $a$ and $N$ are integers such that $\\gcd(a, N) = 1$ (coprime or relatively prime), then there exists an integer $b$ such that $a \\cdot b \\equiv 1 \\pmod N$. $b$ is called the multiplicative inverse of $a \\bmod N$.\n",
    "\n",
    "**Examples**:\n",
    "\n",
    "* $2 \\cdot 3 \\equiv 1 \\pmod{5}$\n",
    "* $2 \\cdot 6 \\equiv 1 \\pmod{11}$"
   ]
  },
  {
   "cell_type": "code",
   "execution_count": 42,
   "id": "7e02a076-d72b-40b2-abc2-9305e9b7e4fb",
   "metadata": {},
   "outputs": [],
   "source": [
    "# reference: https://en.wikipedia.org/wiki/Extended_Euclidean_algorithm#Pseudocode\n",
    "def mod_inv(x, m):\n",
    "    r0, r1 = x, m\n",
    "    s0, s1 = 1, 0\n",
    "    while r1 != 0:\n",
    "        quotient = r0 // r1\n",
    "        r0, r1 = r1, r0 - quotient * r1\n",
    "        s0, s1 = s1, s0 - quotient * s1\n",
    "    if r0 != 1:\n",
    "        return None\n",
    "    return s0 if s0 >= 0 else s0 + m"
   ]
  },
  {
   "cell_type": "code",
   "execution_count": 43,
   "id": "42037c5e-bc7a-4204-8310-45c22e8bfd46",
   "metadata": {},
   "outputs": [
    {
     "data": {
      "text/plain": [
       "6"
      ]
     },
     "execution_count": 43,
     "metadata": {},
     "output_type": "execute_result"
    }
   ],
   "source": [
    "mod_inv(2, 11)"
   ]
  },
  {
   "cell_type": "markdown",
   "id": "12ccdd74-43a0-4b61-98a1-3d4cee456d55",
   "metadata": {},
   "source": [
    "## Cryptography Principles\n",
    "\n",
    "### Kerckhoffs's Principle\n",
    "\n",
    "TODO\n",
    "\n",
    "### Key Space\n",
    "\n",
    "The **key space** should be large enough to prevent **brute-force**, exhaustive-search attacks."
   ]
  },
  {
   "cell_type": "markdown",
   "id": "451ed5fa-8277-4f82-bf83-7aee8e349847",
   "metadata": {},
   "source": [
    "# Private-Key Encryption\n",
    "\n",
    "A **private-key encryption scheme** is defined by a **message space** $M$ and algorithms $\\text{Gen}$, $\\text{Enc}$ and $\\text{Dec}$:\n",
    "\n",
    "* $\\text{Gen}$ (key generation algorithm): generates **key** $k$\n",
    "\n",
    "* $\\text{Enc}$ (encryption algorithm): takes key $k$ and **message** $m \\in M$ as input; outputs **ciphertexst** $c$\n",
    "\n",
    "$$c \\gets \\text{Enc}_k (m)$$\n",
    "\n",
    "* $\\text{Dec}$ (decryption algorithm): takes key $k$ and ciphertext $c$ as input; outputs message $m$ or \"error\"\n",
    "\n",
    "$$m := \\text{Dec}_k (c)$$\n",
    "\n",
    "with\n",
    "\n",
    "$$\\text{Dec}_k(\\text{Enc}_k(m)) = m$$\n",
    "\n",
    "#### Note on the Notation\n",
    "\n",
    "* The **left arrow** $\\gets$ notation denotes assignment to the output of an algorithm that might be **randomized**. Meaning that the output of the algorithm may be different, even when run twice on the same set of inputs.\n",
    "\n",
    "* The **colon equals** $:=$ denotes an assignment to the output of a **deterministic** algorithm. \n",
    "\n",
    "* A single **equal sign** $=$ denotes mathematical equality in contrast to an assignment."
   ]
  },
  {
   "cell_type": "markdown",
   "id": "7bde117d-5312-488f-b8c3-034f51ab3e90",
   "metadata": {},
   "source": [
    "## Shift Cipher\n",
    "\n",
    "The Shift Cipher, a.k.a. Caesar Cipher, is defined as\n",
    "\n",
    "* $M = \\{\\text{strings over lowercase English alphabet}\\}$\n",
    "\n",
    "* $Gen$: choose uniform $k \\in \\{0, \\ldots, 25\\}$\n",
    "\n",
    "* $Enc_k(m_1 \\ldots m_t)$: output $c_1 \\ldots c_t$ where $c_i := m_i + k \\pmod{26}$\n",
    "\n",
    "* $Dec_k(c_1 \\ldots c_t)$: output $m_1 \\ldots m_t$ where $m_i := c_i - k \\pmod{26}$\n",
    "\n",
    "The **Shift Cipher** is **not secure** as it has only 26 possible keys, i.e. the **key space** has a size of $26$.\n",
    "\n",
    "Given a ciphertext, try decrypting with every possible key. If ciphertext is long enough, only one possibility will \"make sense\"."
   ]
  },
  {
   "cell_type": "code",
   "execution_count": 39,
   "id": "23c74159-22f1-4a1e-b1eb-eed536da63f1",
   "metadata": {},
   "outputs": [],
   "source": [
    "class ShiftCipher:\n",
    "    alpha = \"abcdefghijklmnopqrstuvwxyz\"\n",
    "\n",
    "    def enc(self, key, text):\n",
    "        ciphertext = \"\"\n",
    "        for m in text:\n",
    "            c = self.alpha[(self.alpha.find(m) + self.alpha.find(key)) % len(self.alpha)]\n",
    "            ciphertext += c if m in self.alpha else m\n",
    "        return ciphertext\n",
    "\n",
    "    def dec(self, key, ciphertext):\n",
    "        text = \"\"\n",
    "        for c in ciphertext:\n",
    "            m = self.alpha[(self.alpha.find(c) - self.alpha.find(key)) % len(self.alpha)]\n",
    "            text += m if c in self.alpha else c\n",
    "        return text"
   ]
  },
  {
   "cell_type": "code",
   "execution_count": 40,
   "id": "6f8dc4b0-d719-47e3-80ee-0385d51c4358",
   "metadata": {},
   "outputs": [
    {
     "data": {
      "text/plain": [
       "'jgnnqyqtnf'"
      ]
     },
     "execution_count": 40,
     "metadata": {},
     "output_type": "execute_result"
    }
   ],
   "source": [
    "cipher = ShiftCipher()\n",
    "cipher.enc('c', 'helloworld')"
   ]
  },
  {
   "cell_type": "code",
   "execution_count": 82,
   "id": "02c406c2-7187-43ec-adb4-2b4543c7d0e6",
   "metadata": {},
   "outputs": [
    {
     "data": {
      "text/plain": [
       "'helloworld'"
      ]
     },
     "execution_count": 82,
     "metadata": {},
     "output_type": "execute_result"
    }
   ],
   "source": [
    "cipher.dec('c', cipher.enc('c', 'helloworld'))"
   ]
  },
  {
   "cell_type": "markdown",
   "id": "5a05bcd4-2ea9-40b8-90dc-d6ffe63d1666",
   "metadata": {},
   "source": [
    "## Vigenère Cipher\n",
    "\n",
    "In the Vigenère cypher, the key is a string rather than just a single character:\n",
    "\n",
    "* $M = \\{\\text{strings over lowercase English alphabet}\\}$\n",
    "\n",
    "* $Gen$: string $k \\in \\{k_1, \\ldots, k_u\\}$ with $k_i \\in M$ and length $u$. String is wraped around if $u < t$\n",
    "\n",
    "* $Enc_k(m_1 \\ldots m_t)$: output $c_1 \\ldots c_t$ where $c_i := m_i + k_i \\pmod{26}$\n",
    "\n",
    "* $Dec_k(c_1 \\ldots c_t)$: output $m_1 \\ldots m_t$ where $m_i := c_i - k_i \\pmod{26}$\n",
    "\n",
    "The size of the **key space** is ${26}^u$, e.g. if a key has a size $u = 14$, then the key space has a size of ${26}^{14} \\approx 2^{66}$ which makes a brute-force search expersive or impossilble.\n",
    "\n",
    "The **Vigenère Cipher** is not secure though, as there are other attack vectors."
   ]
  },
  {
   "cell_type": "code",
   "execution_count": 93,
   "id": "cb4ec9a0-d236-43b6-a677-3f0f52782077",
   "metadata": {},
   "outputs": [],
   "source": [
    "class VigenereCipher:\n",
    "    alpha = \"abcdefghijklmnopqrstuvwxyz\"\n",
    "\n",
    "    def enc(self, key, text):\n",
    "        ciphertext = \"\"\n",
    "        for u, m in enumerate(text):\n",
    "            k = key[u % len(key)]\n",
    "            c = self.alpha[(self.alpha.find(m) + self.alpha.find(k)) % len(self.alpha)]\n",
    "            ciphertext += c if m in self.alpha else m\n",
    "        return ciphertext\n",
    "\n",
    "    def dec(self, key, ciphertext):\n",
    "        text = \"\"\n",
    "        for u, c in enumerate(ciphertext):\n",
    "            k = key[u % len(key)]\n",
    "            m = self.alpha[(self.alpha.find(c) - self.alpha.find(k)) % len(self.alpha)]\n",
    "            text += m if c in self.alpha else c\n",
    "        return text"
   ]
  },
  {
   "cell_type": "code",
   "execution_count": 94,
   "id": "7d8dd9cb-0076-451e-9e9a-6f4053d62ae1",
   "metadata": {},
   "outputs": [
    {
     "data": {
      "text/plain": [
       "'veqpjiredozxoe'"
      ]
     },
     "execution_count": 94,
     "metadata": {},
     "output_type": "execute_result"
    }
   ],
   "source": [
    "cipher = VigenereCipher()\n",
    "cipher.enc('cafe', 'tellhimaboutme')"
   ]
  },
  {
   "cell_type": "code",
   "execution_count": 95,
   "id": "93e29fc5-9c76-4803-bb4b-9973b7bbfbc1",
   "metadata": {},
   "outputs": [
    {
     "data": {
      "text/plain": [
       "'tellhimaboutme'"
      ]
     },
     "execution_count": 95,
     "metadata": {},
     "output_type": "execute_result"
    }
   ],
   "source": [
    "cipher.dec('cafe', cipher.enc('cafe', 'tellhimaboutme'))"
   ]
  },
  {
   "cell_type": "markdown",
   "id": "12341230-8099-45f4-9ff5-a3078ce91e71",
   "metadata": {},
   "source": [
    "### Breaking the Vigenère Ciper\n",
    "\n",
    "The Vigenère Ciper can easily be attacked using **plaintext letter frequencies**."
   ]
  },
  {
   "cell_type": "code",
   "execution_count": 65,
   "id": "f91a1844-6455-49ff-a085-42947b118a1d",
   "metadata": {},
   "outputs": [],
   "source": [
    "import requests\n",
    "import string\n",
    "from collections import Counter\n",
    "import matplotlib.pyplot as plt\n",
    "\n",
    "url = 'https://www.gutenberg.org/cache/epub/1661/pg1661.txt' # The Project Gutenberg eBook of The Adventures of Sherlock Holmes\n",
    "\n",
    "text = Counter([t for t in requests.get(url).text.lower() if t in string.ascii_lowercase])\n",
    "s = sum(text.values())\n",
    "letters = sorted(text)\n",
    "frequencies = [text[c] / s * 100 for c in letters]"
   ]
  },
  {
   "cell_type": "code",
   "execution_count": 67,
   "id": "4fb2892e-6b24-415f-b76b-cf96e78052e2",
   "metadata": {},
   "outputs": [
    {
     "data": {
      "image/png": "[encoded data removed]",
      "text/plain": [
       "<Figure size 640x480 with 1 Axes>"
      ]
     },
     "metadata": {},
     "output_type": "display_data"
    }
   ],
   "source": [
    "plt.ylabel('Letter frequency, %')\n",
    "plt.bar(letters, frequencies, width=0.8, color='g', alpha=0.5);"
   ]
  },
  {
   "cell_type": "code",
   "execution_count": null,
   "id": "efb87502-8959-473f-8be0-6a07e9d3b6e0",
   "metadata": {},
   "outputs": [],
   "source": []
  }
 ],
 "metadata": {
  "kernelspec": {
   "display_name": "Python 3 (ipykernel)",
   "language": "python",
   "name": "python3"
  },
  "language_info": {
   "codemirror_mode": {
    "name": "ipython",
    "version": 3
   },
   "file_extension": ".py",
   "mimetype": "text/x-python",
   "name": "python",
   "nbconvert_exporter": "python",
   "pygments_lexer": "ipython3",
   "version": "3.12.1"
  }
 },
 "nbformat": 4,
 "nbformat_minor": 5
}
