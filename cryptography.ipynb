{
 "cells": [
  {
   "cell_type": "markdown",
   "id": "05f606d0-9d95-4db2-8e2a-77bc9122def6",
   "metadata": {},
   "source": [
    "# Cryptography Basics\n",
    "\n",
    "## Modular Arithmetic\n",
    "\n",
    "$x$ and $x'$ have the same remainder when divided by $N$:\n",
    "\n",
    "$$x = x' \\bmod N$$\n",
    "\n",
    "if and only if $N$ devides $x - x'$, i.e. if $\\frac{a − b}{n}$ has a remainder of $0$.\n",
    "\n",
    "The **bracket notation** denotes the **remainder** when $x$ divided by $N$:\n",
    "\n",
    "$$[x \\bmod N]$$\n",
    "\n",
    "i.e. the unique value $x' \\in \\{0, \\ldots, N-1\\}$ such that $x = x' \\bmod N$\n",
    "\n",
    "---\n",
    "\n",
    "A number $x \\bmod N$ is the equivalent of asking for the remainder of $x$ when divided by $N$. \n",
    "\n",
    "Two integers $a$ and $b$ are said to be **congruent** (or in the same equivalence class) modulo $N$ if they have the same remainder upon division by $N$. In such a case, we say that \n",
    "\n",
    "$$a \\equiv b \\pmod N$$\n",
    "\n",
    "<br>\n",
    "\n",
    "#### Addition in Modular Arithmetic\n",
    "\n",
    "1. If $a + b = c$, then $a \\pmod N + b \\pmod N \\equiv c \\pmod N$\n",
    "\n",
    "2. If $a \\equiv b \\pmod N$, then $a + k \\equiv b + k \\pmod N$ for any integer $k$\n",
    "\n",
    "3. If $a \\equiv b \\pmod N$ and $c \\equiv d \\pmod N$, then $a + c \\equiv b + d \\pmod N$\n",
    "\n",
    "4. If $a \\equiv b \\pmod N$, then $-a \\equiv -b \\pmod N$\n",
    "\n",
    "<br>\n",
    "\n",
    "#### Multiplication in Modular Arithmetic\n",
    "\n",
    "1. If $a \\cdot b = c$, then $a \\pmod N \\cdot b \\pmod N \\equiv c \\pmod N$\n",
    "\n",
    "2. If $a \\equiv b \\pmod N$, then $k \\cdot a \\equiv k \\cdot b \\pmod N$ for any integer $k$\n",
    "\n",
    "3. If $a \\equiv b \\pmod N$ and $c \\equiv d \\pmod N$, then $a \\cdot c \\equiv b \\cdot d \\pmod N$\n",
    "\n",
    "<br>\n",
    "\n",
    "#### Exponentiation in Modular Arithmetic\n",
    "\n",
    "1. If $a \\equiv b \\pmod N$, then $a^k \\equiv b^k \\pmod N$ for any integer $k$\n",
    "\n",
    "<br>\n",
    "\n",
    "#### Division in Modular Arithmetic\n",
    "\n",
    "1. If $\\gcd(k, N) = 1$ and $k \\cdot a \\equiv k \\cdot b \\pmod N$, then $a \\equiv b \\pmod N$\n",
    "\n",
    "This property is true, because if $k \\cdot (a−b)$ is a multiple of $N$ and $\\gcd(k, N) = 1$, then $N$ must divide $a-b$, or equivalently $a \\equiv b \\pmod N$.\n",
    "\n",
    "**Example**: Consider $4 \\equiv 8 \\pmod 4$. Note that we cannot simply divide both sides of the equation by $2$, since $2 \\not \\equiv 4 \\pmod 4$.\n",
    "\n",
    "<br>\n",
    "\n",
    "#### Multiplicative Inverse in Modular Arithmetic\n",
    "\n",
    "If $a$ and $N$ are integers such that $\\gcd(a, N) = 1$ (coprime or relatively prime), then there exists an integer $b$ such that $a \\cdot b \\equiv 1 \\pmod N$. $b$ is called the multiplicative inverse of $a \\bmod N$.\n",
    "\n",
    "**Examples**:\n",
    "\n",
    "* $2 \\cdot 3 \\equiv 1 \\pmod{5}$\n",
    "* $2 \\cdot 6 \\equiv 1 \\pmod{11}$"
   ]
  },
  {
   "cell_type": "code",
   "execution_count": 1,
   "id": "7e02a076-d72b-40b2-abc2-9305e9b7e4fb",
   "metadata": {},
   "outputs": [],
   "source": [
    "# reference: https://en.wikipedia.org/wiki/Extended_Euclidean_algorithm#Pseudocode\n",
    "def mod_inv(x, m):\n",
    "    r0, r1 = x, m\n",
    "    s0, s1 = 1, 0\n",
    "    while r1 != 0:\n",
    "        quotient = r0 // r1\n",
    "        r0, r1 = r1, r0 - quotient * r1\n",
    "        s0, s1 = s1, s0 - quotient * s1\n",
    "    if r0 != 1:\n",
    "        return None\n",
    "    return s0 if s0 >= 0 else s0 + m"
   ]
  },
  {
   "cell_type": "code",
   "execution_count": 2,
   "id": "42037c5e-bc7a-4204-8310-45c22e8bfd46",
   "metadata": {},
   "outputs": [
    {
     "data": {
      "text/plain": [
       "6"
      ]
     },
     "execution_count": 2,
     "metadata": {},
     "output_type": "execute_result"
    }
   ],
   "source": [
    "mod_inv(2, 11)"
   ]
  },
  {
   "cell_type": "markdown",
   "id": "12ccdd74-43a0-4b61-98a1-3d4cee456d55",
   "metadata": {},
   "source": [
    "## Cryptography Principles\n",
    "\n",
    "### Kerckhoffs's Principle\n",
    "\n",
    "TODO\n",
    "\n",
    "### Key Space\n",
    "\n",
    "The **key space** should be large enough to prevent **brute-force**, exhaustive-search attacks."
   ]
  }
 ],
 "metadata": {
  "kernelspec": {
   "display_name": "Python 3 (ipykernel)",
   "language": "python",
   "name": "python3"
  },
  "language_info": {
   "codemirror_mode": {
    "name": "ipython",
    "version": 3
   },
   "file_extension": ".py",
   "mimetype": "text/x-python",
   "name": "python",
   "nbconvert_exporter": "python",
   "pygments_lexer": "ipython3",
   "version": "3.12.1"
  }
 },
 "nbformat": 4,
 "nbformat_minor": 5
}
